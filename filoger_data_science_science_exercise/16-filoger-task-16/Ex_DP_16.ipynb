{
 "cells": [
  {
   "cell_type": "code",
   "execution_count": 2,
   "metadata": {
    "id": "VV1QPYKbdmKu"
   },
   "outputs": [],
   "source": [
    "import os\n",
    "import zipfile\n",
    "import tensorflow as tf\n",
    "from tensorflow.keras.preprocessing.image import ImageDataGenerator\n",
    "from tensorflow.keras.applications import ResNet152\n",
    "from tensorflow.keras.layers import Flatten, Dense, Dropout\n",
    "from tensorflow.keras.models import Model\n",
    "from tensorflow.keras.layers import GlobalAveragePooling2D\n",
    "from tensorflow.keras.models import Sequential\n",
    "from tensorflow.keras.layers import Conv2D, MaxPooling2D, Activation"
   ]
  },
  {
   "cell_type": "code",
   "execution_count": 3,
   "metadata": {
    "id": "FjkCqqwudzLE"
   },
   "outputs": [],
   "source": [
    "# اکسترکت تصاویر از فایل ZIP\n",
    "extraction_path = '/content/drive/MyDrive/Image_Trash'\n",
    "with zipfile.ZipFile('/content/drive/MyDrive/Image_Trash/trash_images.zip', 'r') as zip_ref:\n",
    "    zip_ref.extractall(extraction_path)"
   ]
  },
  {
   "cell_type": "code",
   "execution_count": 4,
   "metadata": {
    "id": "BZPx7rICeFLt"
   },
   "outputs": [],
   "source": [
    "# مسیر فایل‌های آموزشی\n",
    "train_data_dir = extraction_path\n",
    "test_data_dir = '/content/drive/MyDrive/Image_Trash/trash_images'\n",
    "model_weights_path = '/content/model_weights.h5'"
   ]
  },
  {
   "cell_type": "code",
   "execution_count": 5,
   "metadata": {
    "id": "VNjGIyOSgyx4"
   },
   "outputs": [],
   "source": [
    "#Augmentation settings for training and test data\n",
    "\n",
    "train_datagen = ImageDataGenerator(\n",
    "    rescale=1./255,\n",
    "    rotation_range=30,\n",
    "    width_shift_range=0.2,\n",
    "    height_shift_range=0.2,\n",
    "    shear_range=0.2,\n",
    "    zoom_range=0.2,\n",
    "    horizontal_flip=True,\n",
    "    fill_mode='nearest'\n",
    ")\n",
    "\n",
    "test_datagen = ImageDataGenerator(rescale=1./255)\n"
   ]
  },
  {
   "cell_type": "code",
   "execution_count": 6,
   "metadata": {
    "id": "Bqecx5SRgy0f"
   },
   "outputs": [],
   "source": [
    "#Determining the number of categories and dimensions of images\n",
    "num_classes = 6\n",
    "img_width, img_height = 224, 224\n"
   ]
  },
  {
   "cell_type": "code",
   "execution_count": 7,
   "metadata": {
    "id": "rY-uZA_Igy3L"
   },
   "outputs": [],
   "source": [
    "#  create model\n",
    "model = Sequential()\n",
    "\n",
    "#model.add(Conv2D(32, (3, 3), input_shape=(img_width, img_height, 3)))\n",
    "model.add(Conv2D(32, (3, 3), input_shape=(500, 500, 3)))\n",
    "model.add(Activation('relu'))\n",
    "model.add(MaxPooling2D(pool_size=(2, 2)))\n",
    "\n",
    "model.add(Conv2D(32, (3, 3)))\n",
    "model.add(Activation('relu'))\n",
    "model.add(MaxPooling2D(pool_size=(2, 2)))\n",
    "\n",
    "model.add(Conv2D(64, (3, 3)))\n",
    "model.add(Activation('relu'))\n",
    "model.add(MaxPooling2D(pool_size=(2, 2)))\n",
    "\n",
    "model.add(GlobalAveragePooling2D())\n",
    "model.add(Dense(1024, activation='relu'))\n",
    "model.add(Dense(num_classes, activation='sigmoid'))\n",
    "#model.add(Dense(num_classes, activation='softmax'))\n"
   ]
  },
  {
   "cell_type": "code",
   "execution_count": 8,
   "metadata": {
    "id": "OZxiYhFSgy8k"
   },
   "outputs": [],
   "source": [
    "#Compile the model\n",
    "model.compile(optimizer='adam', loss='categorical_crossentropy', metrics=['accuracy'])\n"
   ]
  },
  {
   "cell_type": "code",
   "execution_count": 9,
   "metadata": {
    "colab": {
     "base_uri": "https://localhost:8080/"
    },
    "id": "Yu8vpeSVgy_n",
    "outputId": "7bd7a6f9-16b2-45c7-afda-4310db2aca2b"
   },
   "outputs": [
    {
     "name": "stdout",
     "output_type": "stream",
     "text": [
      "Model: \"sequential\"\n",
      "_________________________________________________________________\n",
      " Layer (type)                Output Shape              Param #   \n",
      "=================================================================\n",
      " conv2d (Conv2D)             (None, 498, 498, 32)      896       \n",
      "                                                                 \n",
      " activation (Activation)     (None, 498, 498, 32)      0         \n",
      "                                                                 \n",
      " max_pooling2d (MaxPooling2  (None, 249, 249, 32)      0         \n",
      " D)                                                              \n",
      "                                                                 \n",
      " conv2d_1 (Conv2D)           (None, 247, 247, 32)      9248      \n",
      "                                                                 \n",
      " activation_1 (Activation)   (None, 247, 247, 32)      0         \n",
      "                                                                 \n",
      " max_pooling2d_1 (MaxPoolin  (None, 123, 123, 32)      0         \n",
      " g2D)                                                            \n",
      "                                                                 \n",
      " conv2d_2 (Conv2D)           (None, 121, 121, 64)      18496     \n",
      "                                                                 \n",
      " activation_2 (Activation)   (None, 121, 121, 64)      0         \n",
      "                                                                 \n",
      " max_pooling2d_2 (MaxPoolin  (None, 60, 60, 64)        0         \n",
      " g2D)                                                            \n",
      "                                                                 \n",
      " global_average_pooling2d (  (None, 64)                0         \n",
      " GlobalAveragePooling2D)                                         \n",
      "                                                                 \n",
      " dense (Dense)               (None, 1024)              66560     \n",
      "                                                                 \n",
      " dense_1 (Dense)             (None, 6)                 6150      \n",
      "                                                                 \n",
      "=================================================================\n",
      "Total params: 101350 (395.90 KB)\n",
      "Trainable params: 101350 (395.90 KB)\n",
      "Non-trainable params: 0 (0.00 Byte)\n",
      "_________________________________________________________________\n"
     ]
    }
   ],
   "source": [
    "#Show a summary of the model\n",
    "model.summary()\n"
   ]
  },
  {
   "cell_type": "code",
   "execution_count": 10,
   "metadata": {
    "colab": {
     "base_uri": "https://localhost:8080/"
    },
    "id": "-V8XMmqlh8Zn",
    "outputId": "c3044314-c5e4-42b4-9807-041ad524b0a5"
   },
   "outputs": [
    {
     "name": "stdout",
     "output_type": "stream",
     "text": [
      "Found 2527 images belonging to 1 classes.\n",
      "Found 2527 images belonging to 6 classes.\n",
      "Epoch 1/15\n",
      "50/50 [==============================] - 157s 3s/step - loss: 128.8182 - accuracy: 0.1007 - val_loss: 76.3576 - val_accuracy: 0.0490\n",
      "Epoch 2/15\n",
      "50/50 [==============================] - 173s 3s/step - loss: 4378.5269 - accuracy: 0.1600 - val_loss: 3577.5364 - val_accuracy: 0.2125\n",
      "Epoch 3/15\n",
      "50/50 [==============================] - 152s 3s/step - loss: 86652.0938 - accuracy: 0.1601 - val_loss: 53035.5586 - val_accuracy: 0.1604\n",
      "Epoch 4/15\n",
      "50/50 [==============================] - 169s 3s/step - loss: 590716.4375 - accuracy: 0.1801 - val_loss: 147522.4688 - val_accuracy: 0.1906\n",
      "Epoch 5/15\n",
      "50/50 [==============================] - 148s 3s/step - loss: 3080786.5000 - accuracy: 0.1601 - val_loss: 981058.1250 - val_accuracy: 0.1823\n",
      "Epoch 6/15\n",
      "50/50 [==============================] - 169s 3s/step - loss: 8618798.0000 - accuracy: 0.1601 - val_loss: 1677186.5000 - val_accuracy: 0.0521\n",
      "Epoch 7/15\n",
      "50/50 [==============================] - 148s 3s/step - loss: 16348234.0000 - accuracy: 0.1601 - val_loss: 3531077.2500 - val_accuracy: 0.1750\n",
      "Epoch 8/15\n",
      "50/50 [==============================] - 169s 3s/step - loss: 31333568.0000 - accuracy: 0.1800 - val_loss: 8013392.0000 - val_accuracy: 0.1667\n",
      "Epoch 9/15\n",
      "50/50 [==============================] - 168s 3s/step - loss: 61268404.0000 - accuracy: 0.1801 - val_loss: 19686868.0000 - val_accuracy: 0.2094\n",
      "Epoch 10/15\n",
      "50/50 [==============================] - 147s 3s/step - loss: 102114224.0000 - accuracy: 0.1601 - val_loss: 23094746.0000 - val_accuracy: 0.0542\n",
      "Epoch 11/15\n",
      "50/50 [==============================] - 166s 3s/step - loss: 170522576.0000 - accuracy: 0.1600 - val_loss: 56665936.0000 - val_accuracy: 0.1729\n",
      "Epoch 12/15\n",
      "50/50 [==============================] - 148s 3s/step - loss: 257589664.0000 - accuracy: 0.1600 - val_loss: 24406596.0000 - val_accuracy: 0.2125\n",
      "Epoch 13/15\n",
      "50/50 [==============================] - 165s 3s/step - loss: 368569536.0000 - accuracy: 0.1600 - val_loss: 39753728.0000 - val_accuracy: 0.1406\n",
      "Epoch 14/15\n",
      "50/50 [==============================] - 165s 3s/step - loss: 510132960.0000 - accuracy: 0.1801 - val_loss: 60992220.0000 - val_accuracy: 0.1719\n",
      "Epoch 15/15\n",
      "50/50 [==============================] - 164s 3s/step - loss: 560809152.0000 - accuracy: 0.1601 - val_loss: 72863912.0000 - val_accuracy: 0.2427\n"
     ]
    },
    {
     "data": {
      "text/plain": [
       "<keras.src.callbacks.History at 0x787d0b80ff70>"
      ]
     },
     "execution_count": 10,
     "metadata": {},
     "output_type": "execute_result"
    }
   ],
   "source": [
    "train_generator = train_datagen.flow_from_directory(\n",
    "    train_data_dir,\n",
    "    target_size=(img_width, img_height),\n",
    "    batch_size=32,\n",
    "    class_mode='categorical'\n",
    ")\n",
    "\n",
    "test_generator = test_datagen.flow_from_directory(\n",
    "    test_data_dir,\n",
    "    target_size=(img_width, img_height),\n",
    "    batch_size=32,\n",
    "    class_mode='categorical'\n",
    ")\n",
    "\n",
    "model.fit(train_generator, epochs=15  , steps_per_epoch=50, validation_steps=30, validation_data=test_generator)\n",
    "\n"
   ]
  },
  {
   "cell_type": "code",
   "execution_count": 11,
   "metadata": {
    "id": "izbNXxQ4h8gn"
   },
   "outputs": [],
   "source": [
    "#Sequential creation of models for new layers\n",
    "\n",
    "from tensorflow.keras.layers import Conv2D, MaxPooling2D\n",
    "from tensorflow.keras.layers import Activation, Dropout, Flatten, Dense\n",
    "\n",
    "\n",
    "model_conv = Sequential()\n",
    "model_conv.add(Dense(256, activation='relu'))\n",
    "model_conv.add(Dropout(0.5))\n",
    "model_conv.add(Dense(1, activation='sigmoid'))\n",
    "\n"
   ]
  },
  {
   "cell_type": "code",
   "execution_count": 12,
   "metadata": {
    "id": "gb2VgW-5h8jT"
   },
   "outputs": [],
   "source": [
    "#Determining the hybrid model\n",
    "combined_model = Model(inputs=model.input, outputs=model_conv(model.output))"
   ]
  },
  {
   "cell_type": "code",
   "execution_count": 13,
   "metadata": {
    "id": "xXvYUGB6h8mG"
   },
   "outputs": [],
   "source": [
    "#unLocking the lower layers of the pre-trained model for the hybrid model\n",
    "for layer in model.layers:\n",
    "    layer.trainable = True\n"
   ]
  },
  {
   "cell_type": "code",
   "execution_count": 14,
   "metadata": {
    "colab": {
     "base_uri": "https://localhost:8080/"
    },
    "id": "4JnPhzAnh8oy",
    "outputId": "a9ad8069-b31f-4329-d268-4b1ac4f552eb"
   },
   "outputs": [
    {
     "name": "stdout",
     "output_type": "stream",
     "text": [
      "Epoch 1/15\n",
      "50/50 [==============================] - 166s 3s/step - loss: 0.2894 - accuracy: 0.9406 - val_loss: 2.2690 - val_accuracy: 0.1667\n",
      "Epoch 2/15\n",
      "50/50 [==============================] - 169s 3s/step - loss: 0.0383 - accuracy: 1.0000 - val_loss: 3.4026 - val_accuracy: 0.1667\n",
      "Epoch 3/15\n",
      "50/50 [==============================] - 144s 3s/step - loss: 0.0137 - accuracy: 1.0000 - val_loss: 4.0900 - val_accuracy: 0.1667\n",
      "Epoch 4/15\n",
      "50/50 [==============================] - 148s 3s/step - loss: 0.0071 - accuracy: 1.0000 - val_loss: 4.5795 - val_accuracy: 0.1667\n",
      "Epoch 5/15\n",
      "50/50 [==============================] - 164s 3s/step - loss: 0.0044 - accuracy: 1.0000 - val_loss: 4.9577 - val_accuracy: 0.1667\n",
      "Epoch 6/15\n",
      "50/50 [==============================] - 164s 3s/step - loss: 0.0032 - accuracy: 1.0000 - val_loss: 5.2807 - val_accuracy: 0.1667\n",
      "Epoch 7/15\n",
      "50/50 [==============================] - 166s 3s/step - loss: 0.0023 - accuracy: 1.0000 - val_loss: 5.5570 - val_accuracy: 0.1667\n",
      "Epoch 8/15\n",
      "50/50 [==============================] - 147s 3s/step - loss: 0.0018 - accuracy: 1.0000 - val_loss: 5.7978 - val_accuracy: 0.1667\n",
      "Epoch 9/15\n",
      "50/50 [==============================] - 144s 3s/step - loss: 0.0014 - accuracy: 1.0000 - val_loss: 6.0084 - val_accuracy: 0.1667\n",
      "Epoch 10/15\n",
      "50/50 [==============================] - 167s 3s/step - loss: 0.0011 - accuracy: 1.0000 - val_loss: 6.1958 - val_accuracy: 0.1667\n",
      "Epoch 11/15\n",
      "50/50 [==============================] - 164s 3s/step - loss: 8.6950e-04 - accuracy: 1.0000 - val_loss: 6.3583 - val_accuracy: 0.1667\n",
      "Epoch 12/15\n",
      "50/50 [==============================] - 164s 3s/step - loss: 7.6761e-04 - accuracy: 1.0000 - val_loss: 6.5114 - val_accuracy: 0.1667\n",
      "Epoch 13/15\n",
      "50/50 [==============================] - 167s 3s/step - loss: 7.1443e-04 - accuracy: 1.0000 - val_loss: 6.6596 - val_accuracy: 0.1667\n",
      "Epoch 14/15\n",
      "50/50 [==============================] - 164s 3s/step - loss: 5.7321e-04 - accuracy: 1.0000 - val_loss: 6.7943 - val_accuracy: 0.1667\n",
      "Epoch 15/15\n",
      "50/50 [==============================] - 164s 3s/step - loss: 5.3451e-04 - accuracy: 1.0000 - val_loss: 6.9233 - val_accuracy: 0.1667\n"
     ]
    },
    {
     "data": {
      "text/plain": [
       "<keras.src.callbacks.History at 0x787d08f28b50>"
      ]
     },
     "execution_count": 14,
     "metadata": {},
     "output_type": "execute_result"
    }
   ],
   "source": [
    "#Compile the hybrid model\n",
    "combined_model.compile(optimizer='Adam', loss='binary_crossentropy', metrics=['accuracy'])\n",
    "\n",
    "combined_model.fit(train_generator, epochs=15, steps_per_epoch=50, validation_steps=30, validation_data=test_generator)\n",
    "\n"
   ]
  },
  {
   "cell_type": "code",
   "execution_count": 15,
   "metadata": {
    "colab": {
     "base_uri": "https://localhost:8080/"
    },
    "id": "5zsTZMf9h8rb",
    "outputId": "73951e72-d691-48d7-e245-c71ea893b74f"
   },
   "outputs": [
    {
     "name": "stdout",
     "output_type": "stream",
     "text": [
      "Model: \"model\"\n",
      "_________________________________________________________________\n",
      " Layer (type)                Output Shape              Param #   \n",
      "=================================================================\n",
      " conv2d_input (InputLayer)   [(None, 500, 500, 3)]     0         \n",
      "                                                                 \n",
      " conv2d (Conv2D)             (None, 498, 498, 32)      896       \n",
      "                                                                 \n",
      " activation (Activation)     (None, 498, 498, 32)      0         \n",
      "                                                                 \n",
      " max_pooling2d (MaxPooling2  (None, 249, 249, 32)      0         \n",
      " D)                                                              \n",
      "                                                                 \n",
      " conv2d_1 (Conv2D)           (None, 247, 247, 32)      9248      \n",
      "                                                                 \n",
      " activation_1 (Activation)   (None, 247, 247, 32)      0         \n",
      "                                                                 \n",
      " max_pooling2d_1 (MaxPoolin  (None, 123, 123, 32)      0         \n",
      " g2D)                                                            \n",
      "                                                                 \n",
      " conv2d_2 (Conv2D)           (None, 121, 121, 64)      18496     \n",
      "                                                                 \n",
      " activation_2 (Activation)   (None, 121, 121, 64)      0         \n",
      "                                                                 \n",
      " max_pooling2d_2 (MaxPoolin  (None, 60, 60, 64)        0         \n",
      " g2D)                                                            \n",
      "                                                                 \n",
      " global_average_pooling2d (  (None, 64)                0         \n",
      " GlobalAveragePooling2D)                                         \n",
      "                                                                 \n",
      " dense (Dense)               (None, 1024)              66560     \n",
      "                                                                 \n",
      " dense_1 (Dense)             (None, 6)                 6150      \n",
      "                                                                 \n",
      " sequential_1 (Sequential)   (None, 1)                 2049      \n",
      "                                                                 \n",
      "=================================================================\n",
      "Total params: 103399 (403.90 KB)\n",
      "Trainable params: 103399 (403.90 KB)\n",
      "Non-trainable params: 0 (0.00 Byte)\n",
      "_________________________________________________________________\n"
     ]
    }
   ],
   "source": [
    "#Show a summary of the hybrid model\n",
    "combined_model.summary()\n"
   ]
  },
  {
   "cell_type": "code",
   "execution_count": 16,
   "metadata": {
    "colab": {
     "base_uri": "https://localhost:8080/"
    },
    "id": "Ny7Qe5bnh8xZ",
    "outputId": "6b044fd4-0f0d-4bcd-de4b-8a77f7809f1d"
   },
   "outputs": [
    {
     "name": "stderr",
     "output_type": "stream",
     "text": [
      "/usr/local/lib/python3.10/dist-packages/keras/src/engine/training.py:3079: UserWarning: You are saving your model as an HDF5 file via `model.save()`. This file format is considered legacy. We recommend using instead the native Keras format, e.g. `model.save('my_model.keras')`.\n",
      "  saving_api.save_model(\n"
     ]
    }
   ],
   "source": [
    "#Storage of model weights\n",
    "combined_model.save(model_weights_path)\n"
   ]
  },
  {
   "cell_type": "code",
   "execution_count": 17,
   "metadata": {
    "id": "6_5g02jvjSSu"
   },
   "outputs": [],
   "source": [
    "#Added: save combined model with H5 format\n",
    "combined_model.save(\"combined_models3.h5\")\n"
   ]
  },
  {
   "cell_type": "code",
   "execution_count": 21,
   "metadata": {
    "id": "mtin-E0dh8uM"
   },
   "outputs": [],
   "source": [
    "#Loading the hybrid model\n",
    "from tensorflow.keras.models import load_model\n",
    "loaded_model = load_model(\"/content/combined_models3.h5\")\n"
   ]
  },
  {
   "cell_type": "code",
   "execution_count": 22,
   "metadata": {
    "colab": {
     "base_uri": "https://localhost:8080/"
    },
    "id": "TpHvOl1yjSVb",
    "outputId": "1b1e3d3b-e969-4081-db04-34b6e0d0ff04"
   },
   "outputs": [
    {
     "name": "stdout",
     "output_type": "stream",
     "text": [
      "Model: \"model\"\n",
      "_________________________________________________________________\n",
      " Layer (type)                Output Shape              Param #   \n",
      "=================================================================\n",
      " conv2d_input (InputLayer)   [(None, 500, 500, 3)]     0         \n",
      "                                                                 \n",
      " conv2d (Conv2D)             (None, 498, 498, 32)      896       \n",
      "                                                                 \n",
      " activation (Activation)     (None, 498, 498, 32)      0         \n",
      "                                                                 \n",
      " max_pooling2d (MaxPooling2  (None, 249, 249, 32)      0         \n",
      " D)                                                              \n",
      "                                                                 \n",
      " conv2d_1 (Conv2D)           (None, 247, 247, 32)      9248      \n",
      "                                                                 \n",
      " activation_1 (Activation)   (None, 247, 247, 32)      0         \n",
      "                                                                 \n",
      " max_pooling2d_1 (MaxPoolin  (None, 123, 123, 32)      0         \n",
      " g2D)                                                            \n",
      "                                                                 \n",
      " conv2d_2 (Conv2D)           (None, 121, 121, 64)      18496     \n",
      "                                                                 \n",
      " activation_2 (Activation)   (None, 121, 121, 64)      0         \n",
      "                                                                 \n",
      " max_pooling2d_2 (MaxPoolin  (None, 60, 60, 64)        0         \n",
      " g2D)                                                            \n",
      "                                                                 \n",
      " global_average_pooling2d (  (None, 64)                0         \n",
      " GlobalAveragePooling2D)                                         \n",
      "                                                                 \n",
      " dense (Dense)               (None, 1024)              66560     \n",
      "                                                                 \n",
      " dense_1 (Dense)             (None, 6)                 6150      \n",
      "                                                                 \n",
      " sequential_1 (Sequential)   (None, 1)                 2049      \n",
      "                                                                 \n",
      "=================================================================\n",
      "Total params: 103399 (403.90 KB)\n",
      "Trainable params: 103399 (403.90 KB)\n",
      "Non-trainable params: 0 (0.00 Byte)\n",
      "_________________________________________________________________\n"
     ]
    }
   ],
   "source": [
    "#Added: to ensure correct model loading\n",
    "loaded_model.summary()\n"
   ]
  },
  {
   "cell_type": "code",
   "execution_count": 23,
   "metadata": {
    "colab": {
     "base_uri": "https://localhost:8080/"
    },
    "id": "9ebi-_B9jSYV",
    "outputId": "4697ef87-d29f-4cd6-e443-7bb89b79d098"
   },
   "outputs": [
    {
     "name": "stdout",
     "output_type": "stream",
     "text": [
      "79/79 [==============================] - 55s 690ms/step\n",
      "              precision    recall  f1-score   support\n",
      "\n",
      "           0       0.00      0.00      0.00       403\n",
      "           1       0.20      1.00      0.33       501\n",
      "           2       0.00      0.00      0.00       410\n",
      "           3       0.00      0.00      0.00       594\n",
      "           4       0.00      0.00      0.00       482\n",
      "           5       0.00      0.00      0.00       137\n",
      "\n",
      "    accuracy                           0.20      2527\n",
      "   macro avg       0.03      0.17      0.06      2527\n",
      "weighted avg       0.04      0.20      0.07      2527\n",
      "\n"
     ]
    },
    {
     "name": "stderr",
     "output_type": "stream",
     "text": [
      "/usr/local/lib/python3.10/dist-packages/sklearn/metrics/_classification.py:1344: UndefinedMetricWarning: Precision and F-score are ill-defined and being set to 0.0 in labels with no predicted samples. Use `zero_division` parameter to control this behavior.\n",
      "  _warn_prf(average, modifier, msg_start, len(result))\n",
      "/usr/local/lib/python3.10/dist-packages/sklearn/metrics/_classification.py:1344: UndefinedMetricWarning: Precision and F-score are ill-defined and being set to 0.0 in labels with no predicted samples. Use `zero_division` parameter to control this behavior.\n",
      "  _warn_prf(average, modifier, msg_start, len(result))\n",
      "/usr/local/lib/python3.10/dist-packages/sklearn/metrics/_classification.py:1344: UndefinedMetricWarning: Precision and F-score are ill-defined and being set to 0.0 in labels with no predicted samples. Use `zero_division` parameter to control this behavior.\n",
      "  _warn_prf(average, modifier, msg_start, len(result))\n"
     ]
    }
   ],
   "source": [
    "# Evaluate the model with classification_report\n",
    "from sklearn.metrics import classification_report\n",
    "\n",
    "test_generator.reset()\n",
    "y_pred = loaded_model.predict(test_generator)\n",
    "y_pred = y_pred > 0.5\n",
    "print(classification_report(test_generator.classes, y_pred))"
   ]
  },
  {
   "cell_type": "code",
   "execution_count": 1,
   "metadata": {
    "colab": {
     "base_uri": "https://localhost:8080/"
    },
    "id": "D-5a-PRXOLEx",
    "outputId": "b8b5de55-979c-4f79-dcb5-40f8828c40a7"
   },
   "outputs": [
    {
     "name": "stdout",
     "output_type": "stream",
     "text": [
      "Mounted at /content/drive\n"
     ]
    }
   ],
   "source": [
    "from google.colab import drive\n",
    "drive.mount('/content/drive')"
   ]
  }
 ],
 "metadata": {
  "colab": {
   "provenance": []
  },
  "kernelspec": {
   "display_name": "Python 3 (ipykernel)",
   "language": "python",
   "name": "python3"
  },
  "language_info": {
   "codemirror_mode": {
    "name": "ipython",
    "version": 3
   },
   "file_extension": ".py",
   "mimetype": "text/x-python",
   "name": "python",
   "nbconvert_exporter": "python",
   "pygments_lexer": "ipython3",
   "version": "3.10.9"
  }
 },
 "nbformat": 4,
 "nbformat_minor": 4
}
