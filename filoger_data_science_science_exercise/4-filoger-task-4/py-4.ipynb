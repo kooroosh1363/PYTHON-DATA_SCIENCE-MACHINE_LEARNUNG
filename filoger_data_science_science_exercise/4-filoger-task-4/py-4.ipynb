{
 "cells": [
  {
   "attachments": {},
   "cell_type": "markdown",
   "metadata": {},
   "source": [
    "\n",
    "<div style=\" padding: 40px; text-align: center;text-shadow: 2px 4px 0px purple; color:rgb(73, 213, 101);\">\n",
    "    <h1 style=\"background-color: aliceblue;font-family: 'Geologica', sans-ser;ext-align: center;  font-size: 90px; margin-top: 0; margin-bottom: 20px; font-weight: bold;border-radius: 20px;\">\n",
    "    Statistics\n",
    "    </h1>\n",
    "</div>"
   ]
  },
  {
   "attachments": {},
   "cell_type": "markdown",
   "metadata": {},
   "source": [
    "  <div style=\"margin: 15px 20px; \">\n",
    "        <h2 style=\"font-size: 60px; font-family: 'Geologica', sans-ser; font-weight: bold; color:rgb(73, 213, 101);border-radius: 20px; background-color: aliceblue;text-align: center\"> Exercise 4</h2>\n",
    "    </div>\n"
   ]
  },
  {
   "attachments": {},
   "cell_type": "markdown",
   "metadata": {},
   "source": [
    "<div >\n",
    "        <span style=\"display: flex; justify-content: center; align-items: center; flex-direction: column; background-color: aliceblue;font-family: 'Geologica', sans-ser; font-weight: bold; font-size: 25px; color:rgb(73, 213, 101);border-radius: 20px;\">\n",
    "            <p style=\"margin:15px 0;\"> Exercise 4: Interpretive statistics\n",
    "            </p>\n",
    "            <p>deadline:</p>\n",
    "            <p>\n",
    "                03/31/1402, 15:00 (June 21, 2023)\n",
    "            </p>\n",
    "            <p><a href=\"https://filoger.com/\">Filager School of Data Science</a></p>\n",
    "            <p><a href=\"https://chistio.ir/\">Dr. Masoud Kaviani</a></p>\n",
    "        </span>\n",
    "    </div>"
   ]
  },
  {
   "attachments": {},
   "cell_type": "markdown",
   "metadata": {},
   "source": [
    " <div style=\"margin-top: 10px;\">\n",
    "        <span\n",
    "            style=\"display: flex; justify-content: center; align-items: center; flex-direction: column; background-color: aliceblue;font-family: 'Geologica', sans-ser; font-weight: bold; font-size: 25px; color:rgb(73, 213, 101);border-radius: 20px;\">\n",
    "            <p style=\"margin: 15px 15px;\">\n",
    "                A CSV.FLIGHTS dataset is provided. By using PANDAS, SCIPY and NUMPY libraries and interpretive\n",
    "                statistics, summarize and report on the different columns of this data set and write your analysis of\n",
    "                interesting events and trends in the data?</p>\n",
    "        </span>\n",
    "    </div>"
   ]
  },
  {
   "attachments": {},
   "cell_type": "markdown",
   "metadata": {},
   "source": [
    "<div style=\"display: flex;justify-content: center; align-items: center;flex-direction: column;\">\n",
    "    <img src=\"./plane1.jpg\" alt=\"plane\" style=\"margin-bottom: 2rem;\">\n",
    "    <span style=\"display: flex; justify-content: center; align-items: center; flex-direction: column; background-color:rgb(73, 213, 101);font-family: 'Geologica', sans-ser; font-weight: bold; font-size: 25px; color:aliceblue;border-radius: 20px;\">\n",
    "        <p style=\"margin: 20px 20px;\">\n",
    "                This dataset contains information about all flights that departed from NYC (e.g. EWR, JFK and LGA) in\n",
    "                2013:\n",
    "                336,776 flights in total. The dataset misses the data related to the cause of delays.\n",
    "        </p>\n",
    "        <p style=\"margin: 10px 20px;\">\n",
    "                - id: A unique identifier for each flight record in the dataset.<br>\n",
    "                - year: The year in which the flight took place (2013 in this dataset).<br>\n",
    "                - month: The month in which the flight took place (1 to 12).<br>\n",
    "                - day: The day of the month on which the flight took place (1 to 31).<br>\n",
    "                - dep_time: The actual local departure time of the flight, in 24-hour format (hhmm).<br>\n",
    "                - sched_dep_time: The scheduled local departure time of the flight, in 24-hour format (hhmm).<br>\n",
    "                - dep_delay: The difference between the actual and scheduled departure times of the flight, in minutes.\n",
    "                A\n",
    "                positive value indicates a delayed departure, while a negative value indicates an early departure.<br>\n",
    "                - arr_time: The actual local arrival time of the flight, in 24-hour format (hhmm).<br>\n",
    "                - sched_arr_time: The scheduled local arrival time of the flight, in 24-hour format (hhmm).<br>\n",
    "                - arr_delay: The difference between the actual and scheduled arrival times of the flight, in minutes. A\n",
    "                positive value indicates a delayed arrival, while a negative value indicates an early arrival.<br>\n",
    "                - carrier: The two-letter code of the airline carrier for the flight.<br>\n",
    "                - flight: The flight number of the flight.<br>\n",
    "                - tailnum: The unique identifier of the aircraft used for the flight.<br>\n",
    "                - origin: The three-letter code of the airport of origin for the flight.<br>\n",
    "                - dest: The three-letter code of the destination airport for the flight.<br>\n",
    "                - air_time: The duration of the flight, in minutes.<br>\n",
    "                - distance: The distance between the origin and destination airports, in miles.<br>\n",
    "                - hour: The hour component of the scheduled departure time, in local time.<br>\n",
    "                - minute: The minute component of the scheduled departure time, in local time.<br>\n",
    "                - time_hour: The scheduled departure time of the flight, in local time and format (yyyy-mm-dd hh:mm:ss).<br>\n",
    "                - name: The name of the airline carrier for the flight.\n",
    "        </p>\n",
    "    </span>\n",
    "</div>"
   ]
  },
  {
   "attachments": {},
   "cell_type": "markdown",
   "metadata": {},
   "source": [
    " <p\n",
    "        style=\"background-color:rgb(73, 213, 101);font-family:newtimeroman;color:aliceblue;font-size:150%;text-align:center;border-radius:10px 10px;\">\n",
    "        📚 IMPORTING LIBRARIES</p>"
   ]
  },
  {
   "cell_type": "code",
   "execution_count": 1,
   "metadata": {},
   "outputs": [],
   "source": [
    "import numpy as np\n",
    "import pandas as pd\n",
    "import seaborn as sns\n",
    "import matplotlib.pyplot as plt\n",
    "from scipy import stats"
   ]
  },
  {
   "cell_type": "code",
   "execution_count": null,
   "metadata": {},
   "outputs": [],
   "source": []
  }
 ],
 "metadata": {
  "kernelspec": {
   "display_name": "base",
   "language": "python",
   "name": "python3"
  },
  "language_info": {
   "codemirror_mode": {
    "name": "ipython",
    "version": 3
   },
   "file_extension": ".py",
   "mimetype": "text/x-python",
   "name": "python",
   "nbconvert_exporter": "python",
   "pygments_lexer": "ipython3",
   "version": "3.10.9"
  },
  "orig_nbformat": 4
 },
 "nbformat": 4,
 "nbformat_minor": 2
}
