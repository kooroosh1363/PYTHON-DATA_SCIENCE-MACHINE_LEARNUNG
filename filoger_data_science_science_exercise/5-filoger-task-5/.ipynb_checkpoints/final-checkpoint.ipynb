{
 "cells": [
  {
   "cell_type": "markdown",
   "metadata": {},
   "source": [
    "<div style=\"background-color: aquamarine; border-radius: 25px; display: flex; justify-content: center; align-items: center; \">\n",
    "        <img src=\"./img/h-m-re.png\" style=\"width: 100px;\" alt=\"\">\n",
    "        <p style=\"text-align: center; font-size: 40px; color:black;\"> Exercise - 5</p>\n",
    "    </div>"
   ]
  },
  {
   "cell_type": "markdown",
   "metadata": {},
   "source": [
    "<div style=\"background-color: aquamarine; border-radius: 25px; display: flex; justify-content: center; align-items: center; flex-direction: column;\">\n",
    "        <img src=\"./img/marketing-ad-icon.jpg\" style=\"width: 80%; margin-top: 15px;\" alt=\"\">\n",
    "        <p style=\"text-align: center; font-size: 40px; color:black\"> The attached data set (csv.AB_marketing) shows an online store that\n",
    "            Implemented an advertising campaign to increase sales. This campaign is in the group_test column\n",
    "            It is clear. In fact, each of the users of the online store has a row of the data collection\n",
    "            They are either in the ads category or in the psa category. People who are placed in ads category have seen advertisements and people who are placed in psa category have seen advertisements.\n",
    "            have not seen\n",
    "            In the CONVERTED column, it is specified whether each of the users (rows) made a purchase or not.\n",
    "            Using interpretive statistics, check if viewing the ad had an impact on users buying from our store or not?</p>\n",
    "    </div>"
   ]
  },
  {
   "cell_type": "markdown",
   "metadata": {},
   "source": [
    " <div style=\"background-color: aquamarine; border-radius: 25px; display: flex; justify-content: center; align-items: center;  \">\n",
    "        <img src=\"./img/lib-re.png\" style=\"width: 100px; margin-top: 15px;\" alt=\"\">\n",
    "        <p style=\"text-align: center; font-size: 40px; color:black;\"> IMPORTING LIBRARY</p>\n",
    "    </div>"
   ]
  },
  {
   "cell_type": "code",
   "execution_count": 1,
   "metadata": {},
   "outputs": [],
   "source": [
    "import numpy as np\n",
    "import pandas as pd\n",
    "import scipy.stats as stats\n",
    "import matplotlib.pyplot as plt\n",
    "import seaborn as sns\n",
    "import math\n",
    "import pickle"
   ]
  },
  {
   "cell_type": "markdown",
   "metadata": {},
   "source": [
    "<div>\n",
    "        <img src=\"./img/data-vs-information.jpg\" style=\"width: 100%; border-radius: 30px;\">\n",
    "</div>"
   ]
  },
  {
   "cell_type": "code",
   "execution_count": 2,
   "metadata": {},
   "outputs": [],
   "source": [
    "df = pd.read_csv('marketing_AB.csv')\n"
   ]
  },
  {
   "cell_type": "markdown",
   "metadata": {},
   "source": [
    "<div style=\"position: relative;\">\n",
    "        <img src=\"./img/profit-and-loss-dashboard.png\" style=\"width: 100%; border-radius:50px; \" alt=\"\">\n",
    "        <p style=\"position: absolute; top: 70px; left: 70px; font-size: 50px; color: black; font-weight: bolder;\">DATA OVERVIEW</p>\n",
    "    </div>"
   ]
  },
  {
   "cell_type": "markdown",
   "metadata": {},
   "source": [
    "<div style=\"background-color: aquamarine; border-radius: 25px;\">\n",
    "        <p style=\"text-align: center; font-size: 40px; font-weight: bolder; color:black;\"> SHAPE :</p>\n",
    "    </div"
   ]
  },
  {
   "cell_type": "code",
   "execution_count": 5,
   "metadata": {},
   "outputs": [
    {
     "name": "stdout",
     "output_type": "stream",
     "text": [
      "rows :  588101\n",
      "clos :  7\n"
     ]
    }
   ],
   "source": [
    "rows,col = df.shape\n",
    "print(\"rows : \", rows)\n",
    "print(\"clos : \", col)"
   ]
  },
  {
   "cell_type": "markdown",
   "metadata": {},
   "source": [
    "<div style=\"background-color: aquamarine; border-radius: 25px;\">\n",
    "        <p style=\"text-align: center; font-size: 40px; font-weight: bolder; color: black;\"> INFO :</p>\n",
    "    </div>"
   ]
  },
  {
   "cell_type": "code",
   "execution_count": 6,
   "metadata": {},
   "outputs": [
    {
     "name": "stdout",
     "output_type": "stream",
     "text": [
      "<class 'pandas.core.frame.DataFrame'>\n",
      "RangeIndex: 588101 entries, 0 to 588100\n",
      "Data columns (total 7 columns):\n",
      " #   Column         Non-Null Count   Dtype \n",
      "---  ------         --------------   ----- \n",
      " 0   Unnamed: 0     588101 non-null  int64 \n",
      " 1   user id        588101 non-null  int64 \n",
      " 2   test group     588101 non-null  object\n",
      " 3   converted      588101 non-null  bool  \n",
      " 4   total ads      588101 non-null  int64 \n",
      " 5   most ads day   588101 non-null  object\n",
      " 6   most ads hour  588101 non-null  int64 \n",
      "dtypes: bool(1), int64(4), object(2)\n",
      "memory usage: 27.5+ MB\n"
     ]
    }
   ],
   "source": [
    "df.info()"
   ]
  },
  {
   "cell_type": "markdown",
   "metadata": {},
   "source": [
    "<div style=\"background-color: aquamarine; border-radius: 25px;\">\n",
    "        <p style=\"text-align: center; font-size: 40px; font-weight: bolder; color: black;\"> HEAD :</p>\n",
    "    </div>"
   ]
  },
  {
   "cell_type": "code",
   "execution_count": 7,
   "metadata": {},
   "outputs": [
    {
     "data": {
      "text/html": [
       "<div>\n",
       "<style scoped>\n",
       "    .dataframe tbody tr th:only-of-type {\n",
       "        vertical-align: middle;\n",
       "    }\n",
       "\n",
       "    .dataframe tbody tr th {\n",
       "        vertical-align: top;\n",
       "    }\n",
       "\n",
       "    .dataframe thead th {\n",
       "        text-align: right;\n",
       "    }\n",
       "</style>\n",
       "<table border=\"1\" class=\"dataframe\">\n",
       "  <thead>\n",
       "    <tr style=\"text-align: right;\">\n",
       "      <th></th>\n",
       "      <th>Unnamed: 0</th>\n",
       "      <th>user id</th>\n",
       "      <th>test group</th>\n",
       "      <th>converted</th>\n",
       "      <th>total ads</th>\n",
       "      <th>most ads day</th>\n",
       "      <th>most ads hour</th>\n",
       "    </tr>\n",
       "  </thead>\n",
       "  <tbody>\n",
       "    <tr>\n",
       "      <th>0</th>\n",
       "      <td>0</td>\n",
       "      <td>1069124</td>\n",
       "      <td>ad</td>\n",
       "      <td>False</td>\n",
       "      <td>130</td>\n",
       "      <td>Monday</td>\n",
       "      <td>20</td>\n",
       "    </tr>\n",
       "    <tr>\n",
       "      <th>1</th>\n",
       "      <td>1</td>\n",
       "      <td>1119715</td>\n",
       "      <td>ad</td>\n",
       "      <td>False</td>\n",
       "      <td>93</td>\n",
       "      <td>Tuesday</td>\n",
       "      <td>22</td>\n",
       "    </tr>\n",
       "    <tr>\n",
       "      <th>2</th>\n",
       "      <td>2</td>\n",
       "      <td>1144181</td>\n",
       "      <td>ad</td>\n",
       "      <td>False</td>\n",
       "      <td>21</td>\n",
       "      <td>Tuesday</td>\n",
       "      <td>18</td>\n",
       "    </tr>\n",
       "    <tr>\n",
       "      <th>3</th>\n",
       "      <td>3</td>\n",
       "      <td>1435133</td>\n",
       "      <td>ad</td>\n",
       "      <td>False</td>\n",
       "      <td>355</td>\n",
       "      <td>Tuesday</td>\n",
       "      <td>10</td>\n",
       "    </tr>\n",
       "    <tr>\n",
       "      <th>4</th>\n",
       "      <td>4</td>\n",
       "      <td>1015700</td>\n",
       "      <td>ad</td>\n",
       "      <td>False</td>\n",
       "      <td>276</td>\n",
       "      <td>Friday</td>\n",
       "      <td>14</td>\n",
       "    </tr>\n",
       "  </tbody>\n",
       "</table>\n",
       "</div>"
      ],
      "text/plain": [
       "   Unnamed: 0  user id test group  converted  total ads most ads day  \\\n",
       "0           0  1069124         ad      False        130       Monday   \n",
       "1           1  1119715         ad      False         93      Tuesday   \n",
       "2           2  1144181         ad      False         21      Tuesday   \n",
       "3           3  1435133         ad      False        355      Tuesday   \n",
       "4           4  1015700         ad      False        276       Friday   \n",
       "\n",
       "   most ads hour  \n",
       "0             20  \n",
       "1             22  \n",
       "2             18  \n",
       "3             10  \n",
       "4             14  "
      ]
     },
     "execution_count": 7,
     "metadata": {},
     "output_type": "execute_result"
    }
   ],
   "source": [
    "df.head()"
   ]
  },
  {
   "cell_type": "markdown",
   "metadata": {},
   "source": [
    " <div style=\"background-color: aquamarine; border-radius: 25px;\">\n",
    "        <p style=\"text-align: center; font-size: 40px; font-weight: bolder; color: black;\"> DESCRIBE :</p>\n",
    "    </div>"
   ]
  },
  {
   "cell_type": "code",
   "execution_count": 8,
   "metadata": {},
   "outputs": [
    {
     "data": {
      "text/html": [
       "<div>\n",
       "<style scoped>\n",
       "    .dataframe tbody tr th:only-of-type {\n",
       "        vertical-align: middle;\n",
       "    }\n",
       "\n",
       "    .dataframe tbody tr th {\n",
       "        vertical-align: top;\n",
       "    }\n",
       "\n",
       "    .dataframe thead th {\n",
       "        text-align: right;\n",
       "    }\n",
       "</style>\n",
       "<table border=\"1\" class=\"dataframe\">\n",
       "  <thead>\n",
       "    <tr style=\"text-align: right;\">\n",
       "      <th></th>\n",
       "      <th>Unnamed: 0</th>\n",
       "      <th>user id</th>\n",
       "      <th>total ads</th>\n",
       "      <th>most ads hour</th>\n",
       "    </tr>\n",
       "  </thead>\n",
       "  <tbody>\n",
       "    <tr>\n",
       "      <th>count</th>\n",
       "      <td>588101.000000</td>\n",
       "      <td>5.881010e+05</td>\n",
       "      <td>588101.000000</td>\n",
       "      <td>588101.000000</td>\n",
       "    </tr>\n",
       "    <tr>\n",
       "      <th>mean</th>\n",
       "      <td>294050.000000</td>\n",
       "      <td>1.310692e+06</td>\n",
       "      <td>24.820876</td>\n",
       "      <td>14.469061</td>\n",
       "    </tr>\n",
       "    <tr>\n",
       "      <th>std</th>\n",
       "      <td>169770.279667</td>\n",
       "      <td>2.022260e+05</td>\n",
       "      <td>43.715181</td>\n",
       "      <td>4.834634</td>\n",
       "    </tr>\n",
       "    <tr>\n",
       "      <th>min</th>\n",
       "      <td>0.000000</td>\n",
       "      <td>9.000000e+05</td>\n",
       "      <td>1.000000</td>\n",
       "      <td>0.000000</td>\n",
       "    </tr>\n",
       "    <tr>\n",
       "      <th>25%</th>\n",
       "      <td>147025.000000</td>\n",
       "      <td>1.143190e+06</td>\n",
       "      <td>4.000000</td>\n",
       "      <td>11.000000</td>\n",
       "    </tr>\n",
       "    <tr>\n",
       "      <th>50%</th>\n",
       "      <td>294050.000000</td>\n",
       "      <td>1.313725e+06</td>\n",
       "      <td>13.000000</td>\n",
       "      <td>14.000000</td>\n",
       "    </tr>\n",
       "    <tr>\n",
       "      <th>75%</th>\n",
       "      <td>441075.000000</td>\n",
       "      <td>1.484088e+06</td>\n",
       "      <td>27.000000</td>\n",
       "      <td>18.000000</td>\n",
       "    </tr>\n",
       "    <tr>\n",
       "      <th>max</th>\n",
       "      <td>588100.000000</td>\n",
       "      <td>1.654483e+06</td>\n",
       "      <td>2065.000000</td>\n",
       "      <td>23.000000</td>\n",
       "    </tr>\n",
       "  </tbody>\n",
       "</table>\n",
       "</div>"
      ],
      "text/plain": [
       "          Unnamed: 0       user id      total ads  most ads hour\n",
       "count  588101.000000  5.881010e+05  588101.000000  588101.000000\n",
       "mean   294050.000000  1.310692e+06      24.820876      14.469061\n",
       "std    169770.279667  2.022260e+05      43.715181       4.834634\n",
       "min         0.000000  9.000000e+05       1.000000       0.000000\n",
       "25%    147025.000000  1.143190e+06       4.000000      11.000000\n",
       "50%    294050.000000  1.313725e+06      13.000000      14.000000\n",
       "75%    441075.000000  1.484088e+06      27.000000      18.000000\n",
       "max    588100.000000  1.654483e+06    2065.000000      23.000000"
      ]
     },
     "execution_count": 8,
     "metadata": {},
     "output_type": "execute_result"
    }
   ],
   "source": [
    "df.describe()"
   ]
  },
  {
   "cell_type": "markdown",
   "metadata": {},
   "source": [
    "<div>\n",
    "        <img src=\"./img/clean.png\" style=\"width: 100%; border-radius: 30px;\" alt=\"\">\n",
    "    </div>"
   ]
  },
  {
   "cell_type": "code",
   "execution_count": 9,
   "metadata": {},
   "outputs": [],
   "source": [
    "df.drop('Unnamed: 0', axis=1, inplace=True)"
   ]
  },
  {
   "cell_type": "code",
   "execution_count": 10,
   "metadata": {},
   "outputs": [
    {
     "data": {
      "text/html": [
       "<div>\n",
       "<style scoped>\n",
       "    .dataframe tbody tr th:only-of-type {\n",
       "        vertical-align: middle;\n",
       "    }\n",
       "\n",
       "    .dataframe tbody tr th {\n",
       "        vertical-align: top;\n",
       "    }\n",
       "\n",
       "    .dataframe thead th {\n",
       "        text-align: right;\n",
       "    }\n",
       "</style>\n",
       "<table border=\"1\" class=\"dataframe\">\n",
       "  <thead>\n",
       "    <tr style=\"text-align: right;\">\n",
       "      <th></th>\n",
       "      <th>user_id</th>\n",
       "      <th>test_group</th>\n",
       "      <th>converted</th>\n",
       "      <th>total_ads</th>\n",
       "      <th>most_ads_day</th>\n",
       "      <th>most_ads_hour</th>\n",
       "    </tr>\n",
       "  </thead>\n",
       "  <tbody>\n",
       "    <tr>\n",
       "      <th>0</th>\n",
       "      <td>1069124</td>\n",
       "      <td>ad</td>\n",
       "      <td>False</td>\n",
       "      <td>130</td>\n",
       "      <td>Monday</td>\n",
       "      <td>20</td>\n",
       "    </tr>\n",
       "    <tr>\n",
       "      <th>1</th>\n",
       "      <td>1119715</td>\n",
       "      <td>ad</td>\n",
       "      <td>False</td>\n",
       "      <td>93</td>\n",
       "      <td>Tuesday</td>\n",
       "      <td>22</td>\n",
       "    </tr>\n",
       "    <tr>\n",
       "      <th>2</th>\n",
       "      <td>1144181</td>\n",
       "      <td>ad</td>\n",
       "      <td>False</td>\n",
       "      <td>21</td>\n",
       "      <td>Tuesday</td>\n",
       "      <td>18</td>\n",
       "    </tr>\n",
       "    <tr>\n",
       "      <th>3</th>\n",
       "      <td>1435133</td>\n",
       "      <td>ad</td>\n",
       "      <td>False</td>\n",
       "      <td>355</td>\n",
       "      <td>Tuesday</td>\n",
       "      <td>10</td>\n",
       "    </tr>\n",
       "    <tr>\n",
       "      <th>4</th>\n",
       "      <td>1015700</td>\n",
       "      <td>ad</td>\n",
       "      <td>False</td>\n",
       "      <td>276</td>\n",
       "      <td>Friday</td>\n",
       "      <td>14</td>\n",
       "    </tr>\n",
       "  </tbody>\n",
       "</table>\n",
       "</div>"
      ],
      "text/plain": [
       "   user_id test_group  converted  total_ads most_ads_day  most_ads_hour\n",
       "0  1069124         ad      False        130       Monday             20\n",
       "1  1119715         ad      False         93      Tuesday             22\n",
       "2  1144181         ad      False         21      Tuesday             18\n",
       "3  1435133         ad      False        355      Tuesday             10\n",
       "4  1015700         ad      False        276       Friday             14"
      ]
     },
     "execution_count": 10,
     "metadata": {},
     "output_type": "execute_result"
    }
   ],
   "source": [
    "df.rename(columns=lambda x: x.replace(' ', '_'), inplace=True)\n",
    "df.head()"
   ]
  },
  {
   "cell_type": "code",
   "execution_count": 11,
   "metadata": {},
   "outputs": [
    {
     "data": {
      "text/plain": [
       "user_id          False\n",
       "test_group       False\n",
       "converted        False\n",
       "total_ads        False\n",
       "most_ads_day     False\n",
       "most_ads_hour    False\n",
       "dtype: bool"
      ]
     },
     "execution_count": 11,
     "metadata": {},
     "output_type": "execute_result"
    }
   ],
   "source": [
    "df.isnull().any()"
   ]
  },
  {
   "cell_type": "code",
   "execution_count": 12,
   "metadata": {},
   "outputs": [
    {
     "data": {
      "text/plain": [
       "user_id          0\n",
       "test_group       0\n",
       "converted        0\n",
       "total_ads        0\n",
       "most_ads_day     0\n",
       "most_ads_hour    0\n",
       "dtype: int64"
      ]
     },
     "execution_count": 12,
     "metadata": {},
     "output_type": "execute_result"
    }
   ],
   "source": [
    "df.isnull().sum()"
   ]
  },
  {
   "cell_type": "markdown",
   "metadata": {},
   "source": [
    " <div style=\"\">\n",
    "        <img src=\"./img/data-infre.png\" style=\"width: 800PX; margin-left: 300PX; border-radius:50px\" alt=\"\">\n",
    "    </div>"
   ]
  },
  {
   "cell_type": "code",
   "execution_count": 13,
   "metadata": {},
   "outputs": [
    {
     "data": {
      "text/plain": [
       "ad     564577\n",
       "psa     23524\n",
       "Name: test_group, dtype: int64"
      ]
     },
     "execution_count": 13,
     "metadata": {},
     "output_type": "execute_result"
    }
   ],
   "source": [
    "df['test_group'].value_counts()"
   ]
  },
  {
   "cell_type": "code",
   "execution_count": 14,
   "metadata": {},
   "outputs": [
    {
     "data": {
      "text/plain": [
       "test_group  converted\n",
       "ad          False        550154\n",
       "            True          14423\n",
       "psa         False         23104\n",
       "            True            420\n",
       "Name: converted, dtype: int64"
      ]
     },
     "execution_count": 14,
     "metadata": {},
     "output_type": "execute_result"
    }
   ],
   "source": [
    "df.groupby('test_group')['converted'].value_counts()"
   ]
  },
  {
   "cell_type": "code",
   "execution_count": 15,
   "metadata": {},
   "outputs": [
    {
     "data": {
      "text/html": [
       "<div>\n",
       "<style scoped>\n",
       "    .dataframe tbody tr th:only-of-type {\n",
       "        vertical-align: middle;\n",
       "    }\n",
       "\n",
       "    .dataframe tbody tr th {\n",
       "        vertical-align: top;\n",
       "    }\n",
       "\n",
       "    .dataframe thead th {\n",
       "        text-align: right;\n",
       "    }\n",
       "</style>\n",
       "<table border=\"1\" class=\"dataframe\">\n",
       "  <thead>\n",
       "    <tr style=\"text-align: right;\">\n",
       "      <th>converted</th>\n",
       "      <th>False</th>\n",
       "      <th>True</th>\n",
       "    </tr>\n",
       "    <tr>\n",
       "      <th>test_group</th>\n",
       "      <th></th>\n",
       "      <th></th>\n",
       "    </tr>\n",
       "  </thead>\n",
       "  <tbody>\n",
       "    <tr>\n",
       "      <th>ad</th>\n",
       "      <td>550154</td>\n",
       "      <td>14423</td>\n",
       "    </tr>\n",
       "    <tr>\n",
       "      <th>psa</th>\n",
       "      <td>23104</td>\n",
       "      <td>420</td>\n",
       "    </tr>\n",
       "  </tbody>\n",
       "</table>\n",
       "</div>"
      ],
      "text/plain": [
       "converted    False  True \n",
       "test_group               \n",
       "ad          550154  14423\n",
       "psa          23104    420"
      ]
     },
     "execution_count": 15,
     "metadata": {},
     "output_type": "execute_result"
    }
   ],
   "source": [
    "df.groupby('test_group')['converted'].value_counts().unstack('converted')"
   ]
  },
  {
   "cell_type": "code",
   "execution_count": 16,
   "metadata": {},
   "outputs": [
    {
     "name": "stderr",
     "output_type": "stream",
     "text": [
      "C:\\Users\\Parisa\\AppData\\Local\\Temp\\ipykernel_7908\\3564669759.py:1: FutureWarning: The default value of numeric_only in DataFrameGroupBy.sum is deprecated. In a future version, numeric_only will default to False. Either specify numeric_only or select only columns which should be valid for the function.\n",
      "  group_converted = df.groupby('test_group').sum()['converted'].plot.pie(figsize=(8,8), autopct='%1.0f%%')\n"
     ]
    },
    {
     "data": {
      "image/png": "[encoded data removed]",
      "text/plain": [
       "<Figure size 800x800 with 1 Axes>"
      ]
     },
     "metadata": {},
     "output_type": "display_data"
    }
   ],
   "source": [
    "group_converted = df.groupby('test_group').sum()['converted'].plot.pie(figsize=(8,8), autopct='%1.0f%%')\n",
    "plt.show()"
   ]
  },
  {
   "cell_type": "code",
   "execution_count": 17,
   "metadata": {},
   "outputs": [
    {
     "data": {
      "image/png": "[encoded data removed]",
      "text/plain": [
       "<Figure size 1200x1000 with 1 Axes>"
      ]
     },
     "metadata": {},
     "output_type": "display_data"
    }
   ],
   "source": [
    "axis =df.groupby(by =['most_ads_day', 'test_group']).sum()['converted']\\\n",
    ".unstack('test_group').plot(kind= 'bar', figsize= (12,10), grid= True, stacked= True)\n",
    "axis.set_ylabel('converted')\n",
    "axis.set_title('Most ad days and converted')\n",
    "plt.show()"
   ]
  },
  {
   "cell_type": "code",
   "execution_count": 18,
   "metadata": {},
   "outputs": [
    {
     "name": "stderr",
     "output_type": "stream",
     "text": [
      "C:\\Users\\Parisa\\AppData\\Local\\Temp\\ipykernel_7908\\589282945.py:1: FutureWarning: The default value of numeric_only in DataFrameGroupBy.sum is deprecated. In a future version, numeric_only will default to False. Either specify numeric_only or select only columns which should be valid for the function.\n",
      "  axis =df.groupby(by =['most_ads_hour', 'test_group']).sum()['converted']\\\n"
     ]
    },
    {
     "data": {
      "image/png": "[encoded data removed]",
      "text/plain": [
       "<Figure size 1200x1000 with 1 Axes>"
      ]
     },
     "metadata": {},
     "output_type": "display_data"
    }
   ],
   "source": [
    "axis =df.groupby(by =['most_ads_hour', 'test_group']).sum()['converted']\\\n",
    ".unstack('test_group').plot(kind= 'bar', figsize= (12,10), grid= True, stacked= True)\n",
    "axis.set_ylabel('converted')\n",
    "axis.set_title('Most ad days and converted')\n",
    "plt.show()"
   ]
  },
  {
   "cell_type": "markdown",
   "metadata": {},
   "source": [
    "<div style=\"background-color: aquamarine; border-radius: 25px;\">\n",
    "        <p style=\"text-align: center; font-size: 40px; font-weight: bolder; color: black;\"> test for be normal :</p>\n",
    "    </div>"
   ]
  },
  {
   "cell_type": "code",
   "execution_count": null,
   "metadata": {},
   "outputs": [],
   "source": []
  },
  {
   "cell_type": "markdown",
   "metadata": {},
   "source": [
    "<div style=\"background-color: aquamarine; border-radius: 25px;\">\n",
    "        <p style=\"text-align: center; font-size: 40px; font-weight: bolder; color: black;\"> code base-test :</p>\n",
    "    </div>"
   ]
  },
  {
   "cell_type": "code",
   "execution_count": null,
   "metadata": {},
   "outputs": [],
   "source": []
  },
  {
   "cell_type": "markdown",
   "metadata": {},
   "source": [
    "<div style=\"background-color: aquamarine; border-radius: 25px;\">\n",
    "        <p style=\"text-align: center; font-size: 40px; font-weight: bolder; padding-top:30px; color: black;\"> با گرفتن\n",
    "            اختلاف از عدد تبلیغ دیده شده از عدد تبلیغ دیده نشده متوجه میشویم که تاثیر مثبت بوده .\n",
    "            و همین طور که میبینیم عدد شانس نزدیک به صفر و خود صفر است .\n",
    "            پس به این نتیجه میرسیم که احتمال شانسی بودن این افزایش فروش با هر حد آستانه ایی ممکن نیست . و از لحاظ آماری\n",
    "            معنادار است. ّ</p>\n",
    "        <br>\n",
    "        <p style=\"text-align: center; font-size: 40px; font-weight: bolder; padding-bottom: 30px; color: black;\">\n",
    "            By taking the difference between the number of advertisements seen and the number of advertisements not\n",
    "            seen, we realize that the effect was positive.\n",
    "            And as we can see, the chance number is close to zero and zero itself.\n",
    "            So we come to the conclusion that the chance of this increase in sales is not possible with any threshold.\n",
    "            And it is statistically significant.\n",
    "        </p>\n",
    "    </div>"
   ]
  },
  {
   "cell_type": "code",
   "execution_count": 19,
   "metadata": {},
   "outputs": [],
   "source": [
    "ads = df.query('test_group == \"ad\"') \n",
    "psa = df.query('test_group == \"psa\"')\n",
    "\n",
    "\n",
    "ads_ab = np.random.binomial(len(ads), df.converted.mean(), 10000) / len(ads)\n",
    "psa_ab = np.random.binomial(len(psa), df.converted.mean(), 10000) / len(psa)\n",
    "\n",
    "\n",
    "p_diffs = ads_ab - psa_ab"
   ]
  },
  {
   "cell_type": "code",
   "execution_count": 20,
   "metadata": {},
   "outputs": [
    {
     "data": {
      "text/plain": [
       "0.007692453192201517"
      ]
     },
     "execution_count": 20,
     "metadata": {},
     "output_type": "execute_result"
    }
   ],
   "source": [
    "ab_data_diff = ads['converted'].mean() - psa['converted'].mean()\n",
    "ab_data_diff"
   ]
  },
  {
   "cell_type": "code",
   "execution_count": 21,
   "metadata": {},
   "outputs": [
    {
     "data": {
      "text/plain": [
       "0.0"
      ]
     },
     "execution_count": 21,
     "metadata": {},
     "output_type": "execute_result"
    }
   ],
   "source": [
    "(p_diffs > ab_data_diff).mean() * 100  "
   ]
  },
  {
   "cell_type": "code",
   "execution_count": 22,
   "metadata": {},
   "outputs": [
    {
     "data": {
      "text/plain": [
       "100.0"
      ]
     },
     "execution_count": 22,
     "metadata": {},
     "output_type": "execute_result"
    }
   ],
   "source": [
    "(p_diffs < ab_data_diff).mean() * 100"
   ]
  },
  {
   "cell_type": "code",
   "execution_count": 23,
   "metadata": {},
   "outputs": [
    {
     "data": {
      "image/png": "[encoded data removed]",
      "text/plain": [
       "<Figure size 640x480 with 1 Axes>"
      ]
     },
     "metadata": {},
     "output_type": "display_data"
    }
   ],
   "source": [
    "plt.hist(p_diffs, bins=100)\n",
    "low = ab_data_diff\n",
    "higth = p_diffs.mean()\n",
    "plt.axvline(x=low, color='g')\n",
    "plt.axvline(x=higth, color='r');"
   ]
  },
  {
   "cell_type": "markdown",
   "metadata": {},
   "source": [
    "<div style=\"background-color: aquamarine; border-radius: 25px;\">\n",
    "        <p style=\"text-align: center; font-size: 40px; font-weight: bolder; color: black;\"> t-test :</p>\n",
    "</div>"
   ]
  },
  {
   "cell_type": "code",
   "execution_count": 24,
   "metadata": {},
   "outputs": [
    {
     "name": "stdout",
     "output_type": "stream",
     "text": [
      "T-statistic: 7.37040597428566\n",
      "P-value: 1.7033052627831264e-13\n",
      "There is a statistically significant difference in the conversion rates of the two groups.\n"
     ]
    }
   ],
   "source": [
    "def ttest(data1, data2):\n",
    "  \"\"\"Performs a t-test on two sets of data.\"\"\"\n",
    "  t_statistic, p_value = stats.ttest_ind(data1, data2)\n",
    "  return t_statistic, p_value\n",
    "\n",
    "def main():\n",
    "\n",
    "    # Create two groups of users\n",
    "    ad_group = df[df[\"test_group\"] == \"ad\"]\n",
    "    psa_group = df[df[\"test_group\"] == \"psa\"]\n",
    "\n",
    "    # Calculate the mean number of ads seen for each group\n",
    "    ad_mean = ad_group[\"converted\"].mean()\n",
    "    psa_mean = psa_group[\"converted\"].mean()\n",
    "\n",
    "    # Perform a t-test to compare the means of the two groups\n",
    "    t_statistic, p_value = ttest(ad_group[\"converted\"], psa_group[\"converted\"])\n",
    "\n",
    "    # Print the results\n",
    "    print(\"T-statistic:\", t_statistic)\n",
    "    print(\"P-value:\", p_value)\n",
    "    if p_value < 0.05:\n",
    "        print(\"There is a statistically significant difference in the conversion rates of the two groups.\")\n",
    "    else:\n",
    "        print(\"There is no statistically significant difference in the conversion rates of the two groups.\")\n",
    "\n",
    "if __name__ == \"__main__\":\n",
    "  main()"
   ]
  },
  {
   "cell_type": "markdown",
   "metadata": {},
   "source": [
    "<div style=\"background-color: aquamarine; border-radius: 25px;\">\n",
    "        <p style=\"text-align: center; font-size: 40px; font-weight: bolder; color: black;\"> chi2-test :</p>\n",
    "</div>"
   ]
  },
  {
   "cell_type": "code",
   "execution_count": null,
   "metadata": {},
   "outputs": [],
   "source": []
  },
  {
   "cell_type": "code",
   "execution_count": 29,
   "metadata": {},
   "outputs": [],
   "source": [
    "#Peyman Radmanesh"
   ]
  },
  {
   "cell_type": "markdown",
   "metadata": {},
   "source": [
    "#peyman"
   ]
  }
 ],
 "metadata": {
  "kernelspec": {
   "display_name": "Python 3 (ipykernel)",
   "language": "python",
   "name": "python3"
  },
  "language_info": {
   "codemirror_mode": {
    "name": "ipython",
    "version": 3
   },
   "file_extension": ".py",
   "mimetype": "text/x-python",
   "name": "python",
   "nbconvert_exporter": "python",
   "pygments_lexer": "ipython3",
   "version": "3.10.9"
  }
 },
 "nbformat": 4,
 "nbformat_minor": 2
}
