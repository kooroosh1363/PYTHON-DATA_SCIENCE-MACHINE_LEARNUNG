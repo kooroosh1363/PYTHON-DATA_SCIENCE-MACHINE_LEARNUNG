{
 "cells": [
  {
   "cell_type": "code",
   "execution_count": 9,
   "id": "bbf512a1",
   "metadata": {},
   "outputs": [
    {
     "name": "stdout",
     "output_type": "stream",
     "text": [
      "please enter a number : 1\n",
      "please enter a number : 2\n",
      "please enter a number : 3\n",
      "[3, 2, 1]\n"
     ]
    }
   ],
   "source": [
    "pp = []\n",
    "\n",
    "\n",
    "i = 0\n",
    "while i <3 :\n",
    "    x = int(input(\"please enter a number : \"))\n",
    "    pp.append(x)\n",
    "    i+=1\n",
    "\n",
    "oo=[]\n",
    "i = len(pp) -1\n",
    "while i >= 0:\n",
    "    oo.append(pp[i])\n",
    "    i-=1\n",
    "print(oo)"
   ]
  },
  {
   "cell_type": "markdown",
   "id": "5d4aed38",
   "metadata": {},
   "source": [
    "# "
   ]
  }
 ],
 "metadata": {
  "kernelspec": {
   "display_name": "Python 3 (ipykernel)",
   "language": "python",
   "name": "python3"
  },
  "language_info": {
   "codemirror_mode": {
    "name": "ipython",
    "version": 3
   },
   "file_extension": ".py",
   "mimetype": "text/x-python",
   "name": "python",
   "nbconvert_exporter": "python",
   "pygments_lexer": "ipython3",
   "version": "3.10.9"
  }
 },
 "nbformat": 4,
 "nbformat_minor": 5
}
