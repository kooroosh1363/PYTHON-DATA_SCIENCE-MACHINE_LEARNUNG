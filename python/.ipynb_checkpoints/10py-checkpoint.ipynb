{
 "cells": [
  {
   "cell_type": "markdown",
   "metadata": {},
   "source": [
    "<div\n",
    "        style=\"background-color: rgb(67, 131, 200); border-radius: 25px; display: flex; justify-content: center; align-items: center; flex-direction: column;\">\n",
    "        <p style=\"text-align: center; font-size: 40px; color:black\"> Using Python, write a program that prints all even numbers between 0 and 20.</p>\n",
    "    </div>"
   ]
  },
  {
   "cell_type": "code",
   "execution_count": 4,
   "metadata": {},
   "outputs": [
    {
     "name": "stdout",
     "output_type": "stream",
     "text": [
      "Even number 2\n",
      "Even number 4\n",
      "Even number 6\n",
      "Even number 8\n",
      "Even number 10\n",
      "Even number 12\n",
      "Even number 14\n",
      "Even number 16\n",
      "Even number 18\n"
     ]
    }
   ],
   "source": [
    "i = 1\n",
    "while i < 20:\n",
    "    if i % 2 ==0:\n",
    "        print(f\"Even number {i}\")\n",
    "    i+=1"
   ]
  },
  {
   "cell_type": "code",
   "execution_count": null,
   "metadata": {},
   "outputs": [],
   "source": []
  }
 ],
 "metadata": {
  "kernelspec": {
   "display_name": "Python 3 (ipykernel)",
   "language": "python",
   "name": "python3"
  },
  "language_info": {
   "codemirror_mode": {
    "name": "ipython",
    "version": 3
   },
   "file_extension": ".py",
   "mimetype": "text/x-python",
   "name": "python",
   "nbconvert_exporter": "python",
   "pygments_lexer": "ipython3",
   "version": "3.10.9"
  }
 },
 "nbformat": 4,
 "nbformat_minor": 2
}
