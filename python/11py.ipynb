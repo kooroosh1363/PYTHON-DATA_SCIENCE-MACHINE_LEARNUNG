{
 "cells": [
  {
   "cell_type": "markdown",
   "metadata": {},
   "source": [
    "<div\n",
    "        style=\"background-color: rgb(67, 131, 200); border-radius: 25px; display: flex; justify-content: center; align-items: center; flex-direction: column;\">\n",
    "        <p style=\"text-align: center; font-size: 40px; color:black\"> Using Python, write a program that takes a number from the user and prints the factorial of that number.</p>\n",
    "    </div>"
   ]
  },
  {
   "cell_type": "code",
   "execution_count": 9,
   "metadata": {},
   "outputs": [
    {
     "name": "stdout",
     "output_type": "stream",
     "text": [
      "24\n"
     ]
    }
   ],
   "source": [
    "x = int(input(\"please enter a number:\"))\n",
    "y =1\n",
    "while x > 0:\n",
    "    y *= x \n",
    "    x-=1\n",
    "print(y)"
   ]
  },
  {
   "cell_type": "code",
   "execution_count": 20,
   "metadata": {},
   "outputs": [
    {
     "name": "stdout",
     "output_type": "stream",
     "text": [
      "4*3*2*1\n"
     ]
    }
   ],
   "source": [
    "x = int(input(\"please enter a number : \"))\n",
    "_txt = \"\"\n",
    "\n",
    "while x > 0:\n",
    "    if x ==1:\n",
    "        _txt+=str(x)\n",
    "    else:\n",
    "        _txt+=str(x)+\"*\"\n",
    "    x-=1\n",
    "print(_txt)"
   ]
  },
  {
   "cell_type": "code",
   "execution_count": 21,
   "metadata": {},
   "outputs": [
    {
     "name": "stdout",
     "output_type": "stream",
     "text": [
      "5*4*3*2*1\n"
     ]
    }
   ],
   "source": [
    "x = int(input(\"please enter a number : \"))\n",
    "_txt = str(x)\n",
    "x-=1\n",
    "while x > 0:\n",
    "    _txt += \"*\" +str(x)\n",
    "    x-=1\n",
    "print(_txt)"
   ]
  },
  {
   "cell_type": "code",
   "execution_count": null,
   "metadata": {},
   "outputs": [],
   "source": []
  }
 ],
 "metadata": {
  "kernelspec": {
   "display_name": "base",
   "language": "python",
   "name": "python3"
  },
  "language_info": {
   "codemirror_mode": {
    "name": "ipython",
    "version": 3
   },
   "file_extension": ".py",
   "mimetype": "text/x-python",
   "name": "python",
   "nbconvert_exporter": "python",
   "pygments_lexer": "ipython3",
   "version": "-1.-1.-1"
  },
  "orig_nbformat": 4
 },
 "nbformat": 4,
 "nbformat_minor": 2
}
