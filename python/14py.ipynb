{
 "cells": [
  {
   "cell_type": "markdown",
   "metadata": {},
   "source": [
    "<div\n",
    "        style=\"background-color: rgb(67, 131, 200); border-radius: 25px; display: flex; justify-content: center; align-items: center; flex-direction: column;\">\n",
    "        <p style=\"text-align: center; font-size: 40px; color:black\"> Using Python, write a program that takes a number from the user and determines whether this number is prime or not, that is, it is not divisible except by itself and the number 1.</p>\n",
    "    </div>"
   ]
  },
  {
   "cell_type": "markdown",
   "metadata": {},
   "source": [
    "<div\n",
    "        style=\"background-color: rgb(67, 131, 200); border-radius: 25px; display: flex; justify-content: center; align-items: center; flex-direction: column;\">\n",
    "        <p style=\"text-align: center; font-size: 40px; color:black\"> First Way</p>\n",
    "    </div>"
   ]
  },
  {
   "cell_type": "code",
   "execution_count": 28,
   "metadata": {},
   "outputs": [
    {
     "name": "stdout",
     "output_type": "stream",
     "text": [
      "prime\n",
      "9\n"
     ]
    }
   ],
   "source": [
    "x = int(input(\"please enter a number : \"))\n",
    "if x > 2:\n",
    "    flag = True\n",
    "    counter=0\n",
    "    i = 2\n",
    "    while i <x :\n",
    "        if x % i == 0:\n",
    "            flag=False\n",
    "        i+=1\n",
    "        counter+=1\n",
    "    if flag:\n",
    "        print (\"prime\")\n",
    "    else:\n",
    "        print(\"not prime.\")\n",
    "else:\n",
    "    print(f\"please enter a number greater than 2.\")\n",
    "\n",
    "print(counter)\n"
   ]
  },
  {
   "cell_type": "markdown",
   "metadata": {},
   "source": [
    "<div\n",
    "        style=\"background-color: rgb(67, 131, 200); border-radius: 25px; display: flex; justify-content: center; align-items: center; flex-direction: column;\">\n",
    "        <p style=\"text-align: center; font-size: 40px; color:black\"> Second Way</p>\n",
    "    </div>"
   ]
  },
  {
   "cell_type": "code",
   "execution_count": 29,
   "metadata": {},
   "outputs": [
    {
     "name": "stdout",
     "output_type": "stream",
     "text": [
      "prime\n",
      "3\n"
     ]
    }
   ],
   "source": [
    "x = int(input(\"please enter a number : \"))\n",
    "if x > 2:\n",
    "    flag = True\n",
    "    counter = 0\n",
    "    i = 2\n",
    "    while i <x//2 :\n",
    "        if x % i == 0:\n",
    "            flag=False\n",
    "        i+=1\n",
    "        counter+=1\n",
    "    if flag:\n",
    "        print (\"prime\")\n",
    "    else:\n",
    "        print(\"not prime.\")\n",
    "else:\n",
    "    print(f\"please enter a number greater than 2.\")\n",
    "print(counter)"
   ]
  },
  {
   "cell_type": "markdown",
   "metadata": {},
   "source": [
    "<div\n",
    "        style=\"background-color: rgb(67, 131, 200); border-radius: 25px; display: flex; justify-content: center; align-items: center; flex-direction: column;\">\n",
    "        <p style=\"text-align: center; font-size: 40px; color:black\"> Third Way</p>\n",
    "    </div>"
   ]
  },
  {
   "cell_type": "code",
   "execution_count": 30,
   "metadata": {},
   "outputs": [],
   "source": [
    "import time"
   ]
  },
  {
   "cell_type": "code",
   "execution_count": 38,
   "metadata": {},
   "outputs": [
    {
     "name": "stdout",
     "output_type": "stream",
     "text": [
      "0.0\n"
     ]
    }
   ],
   "source": [
    "#x = int(input(\"please enter a number : \"))\n",
    "x =1009\n",
    "start= time.time()\n",
    "if x > 2:\n",
    "    flag = True\n",
    "    #counter = 0\n",
    "    i = 2\n",
    "    \n",
    "    while i < x//2 :\n",
    "        if x % i == 0:\n",
    "            flag=False\n",
    "        i+=1\n",
    "        #counter+=1\n",
    "    if flag:\n",
    "        #print (\"prime\")\n",
    "        pass\n",
    "    else:\n",
    "        #print(\"not prime.\")\n",
    "        pass\n",
    "else:\n",
    "    #print(f\"please enter a number greater than 2.\")\n",
    "    pass\n",
    "end= time.time()\n",
    "print(end-start)\n",
    "#print(counter)"
   ]
  },
  {
   "cell_type": "code",
   "execution_count": 36,
   "metadata": {},
   "outputs": [
    {
     "name": "stdout",
     "output_type": "stream",
     "text": [
      "0.0\n"
     ]
    }
   ],
   "source": [
    "#x = int(input(\"please enter a number : \"))\n",
    "x=1009\n",
    "start= time.time()\n",
    "if x > 2:\n",
    "    flag = True\n",
    "    #counter = 0\n",
    "    i = 2\n",
    "    lenght = x //2\n",
    "    while i <lenght :\n",
    "        if x % i == 0:\n",
    "            flag=False\n",
    "        i+=1\n",
    "        #counter+=1\n",
    "    if flag:\n",
    "        #print (\"prime\")\n",
    "        pass\n",
    "    else:\n",
    "        #print(\"not prime.\")\n",
    "        pass\n",
    "else:\n",
    "    #print(f\"please enter a number greater than 2.\")\n",
    "    pass\n",
    "end= time.time()\n",
    "print(end-start)\n",
    "#print(counter)"
   ]
  },
  {
   "cell_type": "code",
   "execution_count": null,
   "metadata": {},
   "outputs": [],
   "source": []
  }
 ],
 "metadata": {
  "kernelspec": {
   "display_name": "base",
   "language": "python",
   "name": "python3"
  },
  "language_info": {
   "codemirror_mode": {
    "name": "ipython",
    "version": 3
   },
   "file_extension": ".py",
   "mimetype": "text/x-python",
   "name": "python",
   "nbconvert_exporter": "python",
   "pygments_lexer": "ipython3",
   "version": "3.10.9"
  },
  "orig_nbformat": 4
 },
 "nbformat": 4,
 "nbformat_minor": 2
}
