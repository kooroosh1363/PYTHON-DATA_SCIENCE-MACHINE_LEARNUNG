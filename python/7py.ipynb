{
 "cells": [
  {
   "cell_type": "markdown",
   "metadata": {},
   "source": [
    "<div\n",
    "        style=\"background-color: rgb(67, 131, 200); border-radius: 25px; display: flex; justify-content: center; align-items: center; flex-direction: column;\">\n",
    "        <p style=\"text-align: center; font-size: 40px; color:black\"> Using Python, write a program that takes a number from the user and adds all the numbers smaller than the number taken from the user and then prints it.</p>\n",
    "    </div>"
   ]
  },
  {
   "cell_type": "code",
   "execution_count": 6,
   "metadata": {},
   "outputs": [
    {
     "name": "stdout",
     "output_type": "stream",
     "text": [
      "28\n"
     ]
    }
   ],
   "source": [
    "x = int(input(\"please enter a number :\"))\n",
    "y = 0\n",
    "if x < 0:\n",
    "    print('please enter a number greatest than zero.')\n",
    "else:\n",
    "    i = 0\n",
    "    while i < x :\n",
    "        y += i\n",
    "        i+=1\n",
    "    print(y)"
   ]
  },
  {
   "cell_type": "code",
   "execution_count": null,
   "metadata": {},
   "outputs": [],
   "source": []
  }
 ],
 "metadata": {
  "kernelspec": {
   "display_name": "base",
   "language": "python",
   "name": "python3"
  },
  "language_info": {
   "codemirror_mode": {
    "name": "ipython",
    "version": 3
   },
   "file_extension": ".py",
   "mimetype": "text/x-python",
   "name": "python",
   "nbconvert_exporter": "python",
   "pygments_lexer": "ipython3",
   "version": "3.10.9"
  },
  "orig_nbformat": 4
 },
 "nbformat": 4,
 "nbformat_minor": 2
}
