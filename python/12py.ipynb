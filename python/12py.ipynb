{
 "cells": [
  {
   "cell_type": "markdown",
   "metadata": {},
   "source": [
    "<div\n",
    "        style=\"background-color: rgb(67, 131, 200); border-radius: 25px; display: flex; justify-content: center; align-items: center; flex-direction: column;\">\n",
    "        <p style=\"text-align: center; font-size: 40px; color:black\"> Using Python, write a program that takes a number from the user and prints the same number as the number taken from the Fibonacci series.</p>\n",
    "    </div>"
   ]
  },
  {
   "cell_type": "code",
   "execution_count": 8,
   "metadata": {},
   "outputs": [
    {
     "name": "stdout",
     "output_type": "stream",
     "text": [
      "8\n"
     ]
    }
   ],
   "source": [
    "x = int(input(\"please enter a number : \"))\n",
    "pre = cur = 1\n",
    "\n",
    "i = 0  \n",
    "while i < x-2 :\n",
    "    _next = pre + cur\n",
    "    pre=cur\n",
    "    cur=_next\n",
    "    i+=1\n",
    "print(_next)\n"
   ]
  },
  {
   "cell_type": "code",
   "execution_count": 12,
   "metadata": {},
   "outputs": [
    {
     "name": "stdout",
     "output_type": "stream",
     "text": [
      "1+1+2+3+5+8+13+21\n"
     ]
    }
   ],
   "source": [
    "x = int(input(\"please enter a number : \"))\n",
    "pre = cur = 1\n",
    "txt =\"1+1\"\n",
    "i = 0  \n",
    "while i < x-2 :\n",
    "    _next = pre + cur\n",
    "    pre=cur\n",
    "    cur=_next\n",
    "    txt += \"+\" +str(_next)\n",
    "    i+=1\n",
    "print(txt)"
   ]
  },
  {
   "cell_type": "code",
   "execution_count": null,
   "metadata": {},
   "outputs": [],
   "source": []
  }
 ],
 "metadata": {
  "kernelspec": {
   "display_name": "base",
   "language": "python",
   "name": "python3"
  },
  "language_info": {
   "codemirror_mode": {
    "name": "ipython",
    "version": 3
   },
   "file_extension": ".py",
   "mimetype": "text/x-python",
   "name": "python",
   "nbconvert_exporter": "python",
   "pygments_lexer": "ipython3",
   "version": "3.10.9"
  },
  "orig_nbformat": 4
 },
 "nbformat": 4,
 "nbformat_minor": 2
}
