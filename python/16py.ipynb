{
 "cells": [
  {
   "cell_type": "markdown",
   "metadata": {},
   "source": [
    "<div\n",
    "        style=\"background-color: rgb(67, 131, 200); border-radius: 25px; display: flex; justify-content: center; align-items: center; flex-direction: column;\">\n",
    "        <p style=\"text-align: center; font-size: 40px; color:black\"> Using Python, write a program that prints the odd values of a list for us.</p>\n",
    "</div>"
   ]
  },
  {
   "cell_type": "code",
   "execution_count": 7,
   "metadata": {},
   "outputs": [
    {
     "name": "stdout",
     "output_type": "stream",
     "text": [
      "1 3 5 7 9 11 13 15 "
     ]
    }
   ],
   "source": [
    "first = [1,2,3,4,5,6,7,8,9,10,11,12,13,14,15]\n",
    "\n",
    "i = 0\n",
    "length = len(first)\n",
    "while i < length:\n",
    "    if first[i] % 2:\n",
    "        print(first[i], end=\" \")\n",
    "    i+=1\n",
    "\n"
   ]
  },
  {
   "cell_type": "code",
   "execution_count": 8,
   "metadata": {},
   "outputs": [
    {
     "name": "stdout",
     "output_type": "stream",
     "text": [
      "15 13 11 9 7 5 3 1 "
     ]
    }
   ],
   "source": [
    "first = [1,2,3,4,5,6,7,8,9,10,11,12,13,14,15]\n",
    "\n",
    "i = len(first) -1\n",
    "while i >= 0:\n",
    "    if first[i] % 2 :\n",
    "        print ( first[i], end=\" \")\n",
    "    i-=1\n"
   ]
  },
  {
   "cell_type": "code",
   "execution_count": null,
   "metadata": {},
   "outputs": [],
   "source": []
  }
 ],
 "metadata": {
  "kernelspec": {
   "display_name": "base",
   "language": "python",
   "name": "python3"
  },
  "language_info": {
   "codemirror_mode": {
    "name": "ipython",
    "version": 3
   },
   "file_extension": ".py",
   "mimetype": "text/x-python",
   "name": "python",
   "nbconvert_exporter": "python",
   "pygments_lexer": "ipython3",
   "version": "3.10.9"
  },
  "orig_nbformat": 4
 },
 "nbformat": 4,
 "nbformat_minor": 2
}
